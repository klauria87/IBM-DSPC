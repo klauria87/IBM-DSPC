{
 "cells": [
  {
   "cell_type": "markdown",
   "id": "99d3318f-4c3c-4aa5-8963-cb292f1d17fe",
   "metadata": {},
   "source": [
    "<h1>Data Science Tools and Ecosystem</h1>\n"
   ]
  },
  {
   "cell_type": "markdown",
   "id": "33df4205-8112-4518-b2bb-93f8231956ba",
   "metadata": {},
   "source": [
    "In this notebook, Data Science Tools and Ecosystem are summarized."
   ]
  },
  {
   "cell_type": "markdown",
   "id": "43f67a05-8bbb-483c-81b1-8c6d9201e641",
   "metadata": {},
   "source": [
    "<b>Objectives:</b>\n",
    "- List popular languages for Data Science\n",
    "- List popular tools for DS\n",
    "- List of commonly used libreries by DS"
   ]
  },
  {
   "cell_type": "markdown",
   "id": "1bf82deb-2877-4538-9bc2-c8072682914c",
   "metadata": {},
   "source": [
    "Some of the popular languages that Data Scientists use are:\n",
    "<ol>\n",
    "  <li>Python</li>\n",
    "  <li>R</li>\n",
    "  <li>SQL</li>\n",
    "</ol>"
   ]
  },
  {
   "cell_type": "markdown",
   "id": "df0f7ad6-e219-45a5-b86b-0f02e7894c03",
   "metadata": {},
   "source": [
    "Some of the commonly used libraries used by Data Scientists include:\n",
    "<ol>\n",
    "  <li>Pandas</li>\n",
    "  <li>NumPy</li>\n",
    "  <li>Datetime</li>\n",
    "</ol>"
   ]
  },
  {
   "cell_type": "markdown",
   "id": "c9460a41-1736-407e-a4ee-c27897a0e361",
   "metadata": {},
   "source": [
    "\n",
    "<table>\n",
    "  <tr>\n",
    "    <th>Data Science Tools</th>\n",
    "  </tr>\n",
    "  <tr>\n",
    "    <td>Jupyter notebook</td>\n",
    "  </tr>\n",
    "  <tr>\n",
    "    <td>RStudio</td>\n",
    "  </tr>\n",
    "      <tr>\n",
    "    <td>GitHub</td>\n",
    "  </tr>\n",
    "</table>\n",
    "\n",
    "<h3>Below are a few examples of evaluating arithmetic expressions in Python</h3>"
   ]
  },
  {
   "cell_type": "code",
   "execution_count": 2,
   "id": "901425c8-7bc4-46ae-aadd-1bc645f7dada",
   "metadata": {},
   "outputs": [
    {
     "data": {
      "text/plain": [
       "17"
      ]
     },
     "execution_count": 2,
     "metadata": {},
     "output_type": "execute_result"
    }
   ],
   "source": [
    "#This a simple arithmetic expression to mutiply then add integers\n",
    "(3*4)+5"
   ]
  },
  {
   "cell_type": "code",
   "execution_count": 4,
   "id": "2e13658e-fd8e-4836-ac00-ffdc0b7834d5",
   "metadata": {},
   "outputs": [
    {
     "data": {
      "text/plain": [
       "3.3333333333333335"
      ]
     },
     "execution_count": 4,
     "metadata": {},
     "output_type": "execute_result"
    }
   ],
   "source": [
    "#This will convert 200 minutes to hours by diving by 60\n",
    "hours=200/60\n",
    "hours"
   ]
  },
  {
   "cell_type": "markdown",
   "id": "9038a28a-d70a-43ab-9c7d-508874b74763",
   "metadata": {},
   "source": [
    "<h2>Author</h2>\n",
    "<p>Claudia</p>"
   ]
  },
  {
   "cell_type": "code",
   "execution_count": null,
   "id": "f1e8e145-c9f8-48cc-8752-e241b3a56dcc",
   "metadata": {},
   "outputs": [],
   "source": []
  }
 ],
 "metadata": {
  "kernelspec": {
   "display_name": "Python 3 (ipykernel)",
   "language": "python",
   "name": "python3"
  },
  "language_info": {
   "codemirror_mode": {
    "name": "ipython",
    "version": 3
   },
   "file_extension": ".py",
   "mimetype": "text/x-python",
   "name": "python",
   "nbconvert_exporter": "python",
   "pygments_lexer": "ipython3",
   "version": "3.12.5"
  }
 },
 "nbformat": 4,
 "nbformat_minor": 5
}
